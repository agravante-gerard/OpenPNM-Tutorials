{
 "cells": [
  {
   "cell_type": "code",
   "execution_count": 1,
   "id": "c9acb291-feb8-4613-88fa-3c87af2a40ee",
   "metadata": {},
   "outputs": [],
   "source": [
    "##### Spreadsheet Analogy #####\n",
    "# Data stored in two tables: pore data, throat data\n",
    "# in each table, each pore is a row and each property is a column\n",
    "import openpnm as op\n",
    "import numpy as np\n",
    "op.visualization.set_mpl_style()\n",
    "np.random.seed(0)\n",
    "pn = op.network.Demo(shape=[4, 1, 1])"
   ]
  },
  {
   "cell_type": "code",
   "execution_count": 2,
   "id": "67f14318-f867-4c80-90af-5898e25f3276",
   "metadata": {},
   "outputs": [
    {
     "data": {
      "text/html": [
       "<div>\n",
       "<style scoped>\n",
       "    .dataframe tbody tr th:only-of-type {\n",
       "        vertical-align: middle;\n",
       "    }\n",
       "\n",
       "    .dataframe tbody tr th {\n",
       "        vertical-align: top;\n",
       "    }\n",
       "\n",
       "    .dataframe thead th {\n",
       "        text-align: right;\n",
       "    }\n",
       "</style>\n",
       "<table border=\"1\" class=\"dataframe\">\n",
       "  <thead>\n",
       "    <tr style=\"text-align: right;\">\n",
       "      <th></th>\n",
       "      <th>pore.coordination_number</th>\n",
       "      <th>pore.diameter</th>\n",
       "      <th>pore.max_size</th>\n",
       "      <th>pore.seed</th>\n",
       "      <th>pore.volume</th>\n",
       "    </tr>\n",
       "  </thead>\n",
       "  <tbody>\n",
       "    <tr>\n",
       "      <th>0</th>\n",
       "      <td>1.0</td>\n",
       "      <td>0.474407</td>\n",
       "      <td>1.0</td>\n",
       "      <td>0.474407</td>\n",
       "      <td>0.055905</td>\n",
       "    </tr>\n",
       "    <tr>\n",
       "      <th>1</th>\n",
       "      <td>2.0</td>\n",
       "      <td>0.557595</td>\n",
       "      <td>1.0</td>\n",
       "      <td>0.557595</td>\n",
       "      <td>0.090773</td>\n",
       "    </tr>\n",
       "    <tr>\n",
       "      <th>2</th>\n",
       "      <td>2.0</td>\n",
       "      <td>0.501382</td>\n",
       "      <td>1.0</td>\n",
       "      <td>0.501382</td>\n",
       "      <td>0.065994</td>\n",
       "    </tr>\n",
       "    <tr>\n",
       "      <th>3</th>\n",
       "      <td>1.0</td>\n",
       "      <td>0.472442</td>\n",
       "      <td>1.0</td>\n",
       "      <td>0.472442</td>\n",
       "      <td>0.055213</td>\n",
       "    </tr>\n",
       "  </tbody>\n",
       "</table>\n",
       "</div>"
      ],
      "text/plain": [
       "   pore.coordination_number  pore.diameter  pore.max_size  pore.seed  \\\n",
       "0                       1.0       0.474407            1.0   0.474407   \n",
       "1                       2.0       0.557595            1.0   0.557595   \n",
       "2                       2.0       0.501382            1.0   0.501382   \n",
       "3                       1.0       0.472442            1.0   0.472442   \n",
       "\n",
       "   pore.volume  \n",
       "0     0.055905  \n",
       "1     0.090773  \n",
       "2     0.065994  \n",
       "3     0.055213  "
      ]
     },
     "execution_count": 2,
     "metadata": {},
     "output_type": "execute_result"
    }
   ],
   "source": [
    "# using pandas to visualize this\n",
    "import pandas as pd\n",
    "pore_data_sheet = pd.DataFrame({k: pn[k] for k in pn.props(element='pore') if pn[k].ndim == 1})\n",
    "pore_data_sheet"
   ]
  },
  {
   "cell_type": "code",
   "execution_count": 3,
   "id": "bc95ff1e-bf68-4abc-904d-782699059b7d",
   "metadata": {},
   "outputs": [
    {
     "name": "stdout",
     "output_type": "stream",
     "text": [
      "0    0.055905\n",
      "1    0.090773\n",
      "2    0.065994\n",
      "3    0.055213\n",
      "Name: pore.volume, dtype: float64\n"
     ]
    }
   ],
   "source": [
    "# column can be extracted by\n",
    "column = pore_data_sheet['pore.volume']\n",
    "print(column)"
   ]
  },
  {
   "cell_type": "code",
   "execution_count": 4,
   "id": "5635605a-c991-403a-a714-ad4bc4f06597",
   "metadata": {},
   "outputs": [
    {
     "name": "stdout",
     "output_type": "stream",
     "text": [
      "0.05590507143096387\n"
     ]
    }
   ],
   "source": [
    "# or individual elements\n",
    "print(pore_data_sheet['pore.volume'][0])"
   ]
  },
  {
   "cell_type": "code",
   "execution_count": 5,
   "id": "8c6549d1-0d53-45fd-9736-4d9814a233fc",
   "metadata": {},
   "outputs": [
    {
     "name": "stdout",
     "output_type": "stream",
     "text": [
      "<class 'numpy.ndarray'>\n"
     ]
    }
   ],
   "source": [
    "##### Rules to maintain data integrity #####\n",
    "# Rule: All values (whatever data type) are converted to Numpy arrays\n",
    "pn['throat.list'] = [1, 2, 3]\n",
    "print(type(pn['throat.list']))"
   ]
  },
  {
   "cell_type": "code",
   "execution_count": 6,
   "id": "4532aa83-d930-4dc0-b792-1df9a3ec8f9e",
   "metadata": {},
   "outputs": [
    {
     "name": "stdout",
     "output_type": "stream",
     "text": [
      "This will throw an exception since the dict name cannot start with foo\n"
     ]
    }
   ],
   "source": [
    "# Rule: Dictionary key must start with 'pore' or 'throat'\n",
    "try:\n",
    "    pn['foo.bar'] = 0\n",
    "except:\n",
    "    print('This will throw an exception since the dict name cannot start with foo')\n"
   ]
  },
  {
   "cell_type": "code",
   "execution_count": 7,
   "id": "a704e7d4-551b-4c1b-971a-3a87078dc027",
   "metadata": {},
   "outputs": [
    {
     "name": "stdout",
     "output_type": "stream",
     "text": [
      "This will throw an exception since there are 4 pores, hence all pore arrays should be 4 elements long\n"
     ]
    }
   ],
   "source": [
    "# Rule: Each new data should be an array of the same length as pore or throat OR a scalar (so every pore/throat has data)\n",
    "try:\n",
    "    pn['pore.test'] = [0, 0, 0]\n",
    "except:\n",
    "    print('This will throw an exception since there are 4 pores, hence all pore arrays should be 4 elements long')"
   ]
  },
  {
   "cell_type": "code",
   "execution_count": 8,
   "id": "6aef3d9a-764b-4508-872b-1816fb6e95b9",
   "metadata": {},
   "outputs": [
    {
     "name": "stdout",
     "output_type": "stream",
     "text": [
      "[0 0 0 0]\n"
     ]
    }
   ],
   "source": [
    "# Rule: Every scalar value is converted to an array of N_pore or N_throat length\n",
    "pn['pore.test'] = 0\n",
    "print(pn['pore.test'])"
   ]
  },
  {
   "cell_type": "code",
   "execution_count": 9,
   "id": "47a361fe-57fd-43f7-bc15-99309e2eaea8",
   "metadata": {},
   "outputs": [
    {
     "name": "stdout",
     "output_type": "stream",
     "text": [
      "{'species_A': array([0, 0, 0, 0]), 'species_B': array([1, 1, 1, 1])}\n"
     ]
    }
   ],
   "source": [
    "# Rule: Nested dictionaries (dictionaries inside of dictionaries) are allowed\n",
    "pn['pore.concentration'] = {'species_A': 0, 'species_B': 1}\n",
    "print(pn['pore.concentration'])"
   ]
  },
  {
   "cell_type": "code",
   "execution_count": 10,
   "id": "2fde7cf2-88f3-4584-8b1d-10b1e2f89e86",
   "metadata": {},
   "outputs": [
    {
     "name": "stdout",
     "output_type": "stream",
     "text": [
      "[0 0 0 0]\n"
     ]
    },
    {
     "data": {
      "text/plain": [
       "array([0, 0, 0, 0])"
      ]
     },
     "execution_count": 10,
     "metadata": {},
     "output_type": "execute_result"
    }
   ],
   "source": [
    "# printing a value with a key in the nested dictionary\n",
    "print(pn['pore.concentration.species_A'])\n",
    "# indexing a value with a key in the nested dictionary\n",
    "pn['pore.concentration']['species_A']"
   ]
  },
  {
   "cell_type": "code",
   "execution_count": 11,
   "id": "cc6e62ae-111a-450a-98f5-0297c22b9edc",
   "metadata": {},
   "outputs": [
    {
     "name": "stdout",
     "output_type": "stream",
     "text": [
      "['pore.labelsample', 'pore.left', 'pore.right', 'pore.surface', 'pore.xmax', 'pore.xmin']\n"
     ]
    }
   ],
   "source": [
    "# Rule: Boolean arrays are treated as labels, Numerical arrays are treated as properties\n",
    "pn['pore.labelsample'] = False\n",
    "print(pn.labels(element='pore'))"
   ]
  },
  {
   "cell_type": "code",
   "execution_count": 12,
   "id": "b8429c3a-33c0-424c-9e14-8dc44771d5ca",
   "metadata": {},
   "outputs": [
    {
     "data": {
      "text/plain": [
       "array([], dtype=int32)"
      ]
     },
     "execution_count": 12,
     "metadata": {},
     "output_type": "execute_result"
    }
   ],
   "source": [
    "# no pores has this label cause it's all false\n",
    "pn.pores('labelsample')"
   ]
  },
  {
   "cell_type": "code",
   "execution_count": 13,
   "id": "3041b9f3-83a9-4f2f-9c41-92a49f19d00d",
   "metadata": {},
   "outputs": [
    {
     "name": "stdout",
     "output_type": "stream",
     "text": [
      "[0 1 2]\n"
     ]
    }
   ],
   "source": [
    "# but now it does\n",
    "pn['pore.labelsample'][[0, 1, 2]] = True\n",
    "print(pn.pores('labelsample'))"
   ]
  },
  {
   "cell_type": "code",
   "execution_count": 14,
   "id": "ddda6416-ef2d-481a-9b28-93c7dd791e85",
   "metadata": {},
   "outputs": [
    {
     "name": "stdout",
     "output_type": "stream",
     "text": [
      "[2 3]\n"
     ]
    }
   ],
   "source": [
    "# you can use set_label to label pores/throats\n",
    "pn.set_label('another', pores=[2, 3])\n",
    "print(pn.pores('another'))"
   ]
  },
  {
   "cell_type": "code",
   "execution_count": 15,
   "id": "26100e42-d468-41a7-8a17-5e4899631aa7",
   "metadata": {},
   "outputs": [
    {
     "name": "stdout",
     "output_type": "stream",
     "text": [
      "――――――――――――――――――――――――――――――――――――――――――――――――――――――――――――――――――――――――――――――\n",
      "1     : pore.concentration.species_A\n",
      "2     : pore.concentration.species_B\n",
      "3     : pore.coordination_number\n",
      "4     : pore.coords\n",
      "5     : pore.diameter\n",
      "6     : pore.max_size\n",
      "7     : pore.seed\n",
      "8     : pore.test\n",
      "9     : pore.volume\n",
      "10    : throat.conns\n",
      "11    : throat.cross_sectional_area\n",
      "12    : throat.diameter\n",
      "13    : throat.diffusive_size_factors\n",
      "14    : throat.hydraulic_size_factors\n",
      "15    : throat.length\n",
      "16    : throat.lens_volume\n",
      "17    : throat.list\n",
      "18    : throat.max_size\n",
      "19    : throat.spacing\n",
      "20    : throat.total_volume\n",
      "21    : throat.volume\n",
      "――――――――――――――――――――――――――――――――――――――――――――――――――――――――――――――――――――――――――――――\n"
     ]
    }
   ],
   "source": [
    "# Dictionary keys with a leading underscor are hidden\n",
    "pn['pore._hidden'] = 1\n",
    "print(pn.props())"
   ]
  },
  {
   "cell_type": "code",
   "execution_count": 16,
   "id": "04f1a7af-ae73-4275-8e17-8ca6b3e045a3",
   "metadata": {},
   "outputs": [
    {
     "data": {
      "text/plain": [
       "array([1, 1, 1, 1])"
      ]
     },
     "execution_count": 16,
     "metadata": {},
     "output_type": "execute_result"
    }
   ],
   "source": [
    "# It doesn't show up, but can be extracted\n",
    "pn['pore._hidden']"
   ]
  },
  {
   "cell_type": "code",
   "execution_count": 17,
   "id": "ac10366e-5dd1-435d-80b9-317077e77562",
   "metadata": {},
   "outputs": [
    {
     "name": "stdout",
     "output_type": "stream",
     "text": [
      "True\n"
     ]
    }
   ],
   "source": [
    "print('pore._hidden' in pn.keys())"
   ]
  },
  {
   "cell_type": "code",
   "execution_count": 19,
   "id": "6e816750-078d-4f37-ab0c-0843ae0dcc83",
   "metadata": {},
   "outputs": [
    {
     "name": "stdout",
     "output_type": "stream",
     "text": [
      "――――――――――――――――――――――――――――――――――――――――――――――――――――――――――――――――――――――――――――――\n",
      "Parameters                          Value\n",
      "――――――――――――――――――――――――――――――――――――――――――――――――――――――――――――――――――――――――――――――\n",
      "dimensionality                      (3,)\n",
      "lattice_connectivity                6\n",
      "――――――――――――――――――――――――――――――――――――――――――――――――――――――――――――――――――――――――――――――\n"
     ]
    }
   ],
   "source": [
    "##### The param prefix #####\n",
    "# There are properties that are constant -- cannot be changed -- so they cannot be set by a scalar value\n",
    "# for this, you can use param\n",
    "pn.params['lattice_connectivity'] = 6\n",
    "print(pn.params)"
   ]
  },
  {
   "cell_type": "raw",
   "id": "5b354f63-c3c2-4851-88a1-ad13265333a4",
   "metadata": {},
   "source": []
  },
  {
   "cell_type": "code",
   "execution_count": 22,
   "id": "0f639761-13a0-4fa7-ba71-459ca310af01",
   "metadata": {},
   "outputs": [
    {
     "name": "stdout",
     "output_type": "stream",
     "text": [
      "――――――――――――――――――――――――――――――――――――――――――――――――――――――――――――――――――――――――――――――\n",
      "Parameters                          Value\n",
      "――――――――――――――――――――――――――――――――――――――――――――――――――――――――――――――――――――――――――――――\n",
      "dimensionality                      (3,)\n",
      "lattice_connectivity                6\n",
      "test                                2\n",
      "――――――――――――――――――――――――――――――――――――――――――――――――――――――――――――――――――――――――――――――\n"
     ]
    }
   ],
   "source": [
    "pn['param.test'] = 2\n",
    "print(pn.params)"
   ]
  },
  {
   "cell_type": "code",
   "execution_count": 23,
   "id": "cdd5e4f7-5912-44b7-a445-9fc8f69c6e2e",
   "metadata": {},
   "outputs": [
    {
     "data": {
      "image/png": "[encoded data removed]",
      "text/plain": [
       "<Figure size 500x1415.35 with 1 Axes>"
      ]
     },
     "metadata": {
      "image/png": {
       "height": 1329,
       "width": 482
      }
     },
     "output_type": "display_data"
    }
   ],
   "source": [
    "##### Data storage in topology #####\n",
    "# The pores on either end of a throat are just another property to be stored, along with diameter\n",
    "np.random.seed(0)\n",
    "dn = op.network.Delaunay(points=4, shape=[1, 1, 0])\n",
    "op.visualization.plot_tutorial(dn);"
   ]
  },
  {
   "cell_type": "code",
   "execution_count": 24,
   "id": "090502c3-dba8-4f2d-bf6f-76666f72ed97",
   "metadata": {},
   "outputs": [
    {
     "name": "stdout",
     "output_type": "stream",
     "text": [
      "[[0 1]\n",
      " [0 2]\n",
      " [0 3]\n",
      " [1 3]\n",
      " [2 3]]\n"
     ]
    }
   ],
   "source": [
    "# throat has a property that stores its connections\n",
    "print(dn['throat.conns'])"
   ]
  },
  {
   "cell_type": "code",
   "execution_count": 25,
   "id": "9ba9201d-cf7f-4649-892b-e7f655c578f8",
   "metadata": {},
   "outputs": [],
   "source": [
    "# Topology Rules:\n",
    "# - A throat is a connection between exactly two pores, no more and no less\n",
    "# - Throats are non-directional, meaning that flow in either direction is equal\n",
    "# - Pores can have an arbitrary number of throats, including zero; however, pores with zero throats lead to singular matrices and other problems so should be avoided.\n",
    "# - Two pores are generally connected by no more than one throat. Multiple throats should be avoided"
   ]
  },
  {
   "cell_type": "code",
   "execution_count": 26,
   "id": "221d88d3-2ee5-443b-8301-4e58bf54f3a7",
   "metadata": {},
   "outputs": [
    {
     "name": "stdout",
     "output_type": "stream",
     "text": [
      "  (0, 1)\t0\n",
      "  (0, 2)\t1\n",
      "  (0, 3)\t2\n",
      "  (1, 3)\t3\n",
      "  (2, 3)\t4\n"
     ]
    }
   ],
   "source": [
    "##### Other Things #####\n",
    "# Sparse adjacency matrix can be generated\n",
    "am = dn.create_adjacency_matrix(weights=dn.Ts, triu=True)\n",
    "print(am)"
   ]
  },
  {
   "cell_type": "code",
   "execution_count": 27,
   "id": "4e079de3-fd5c-44f3-8313-9a0a6ae8a384",
   "metadata": {},
   "outputs": [
    {
     "name": "stdout",
     "output_type": "stream",
     "text": [
      "[[0 1 1 1]\n",
      " [1 0 0 1]\n",
      " [1 0 0 1]\n",
      " [1 1 1 0]]\n"
     ]
    }
   ],
   "source": [
    "# which can be converted into a dense array (1 means connection, 0 means no connection)\n",
    "am = dn.create_adjacency_matrix()\n",
    "print(am.todense())"
   ]
  },
  {
   "cell_type": "code",
   "execution_count": 28,
   "id": "351639d2-9293-411b-a05a-05e5b8c8f31e",
   "metadata": {},
   "outputs": [],
   "source": [
    "# OpenPNM uses the sparse way (COO) cause if it's dense, there's gonna be so many zeroes - waste of space\n",
    "# but you can convert to other forms (e.g., CSR, LIL) using creat_adjacency_matrix method"
   ]
  },
  {
   "cell_type": "code",
   "execution_count": 40,
   "id": "cb6c153e-1679-4049-8b26-d15d8711cea8",
   "metadata": {},
   "outputs": [
    {
     "name": "stdout",
     "output_type": "stream",
     "text": [
      "[[0.47440675 0.23720338 0.55759468]\n",
      " [0.55759468 0.25069084 0.50138169]\n",
      " [0.50138169 0.2362208  0.47244159]]\n",
      "[[0.47440675 0.55759468]\n",
      " [0.55759468 0.50138169]\n",
      " [0.50138169 0.47244159]]\n"
     ]
    }
   ],
   "source": [
    "# Conduit data - data on 1 throat and 2 pore truple\n",
    "D = pn.get_conduit_data('diameter')\n",
    "print(D)"
   ]
  },
  {
   "cell_type": "code",
   "execution_count": 41,
   "id": "0e2549dd-1c22-4fd2-a0f6-3a1168c83087",
   "metadata": {},
   "outputs": [
    {
     "name": "stdout",
     "output_type": "stream",
     "text": [
      "[0.23720338 0.25069084 0.2362208 ]\n",
      "[[0.47440675 0.55759468]\n",
      " [0.55759468 0.50138169]\n",
      " [0.50138169 0.47244159]]\n"
     ]
    }
   ],
   "source": [
    "# the above is set up like [pore1 throat pore2]\n",
    "print(pn['throat.diameter'])\n",
    "R1_R2 = pn['pore.diameter'][pn.conns]\n",
    "print(R1_R2)"
   ]
  },
  {
   "cell_type": "code",
   "execution_count": 39,
   "id": "8bb17638-a78d-4c99-8e9e-401fbda2554b",
   "metadata": {},
   "outputs": [
    {
     "name": "stdout",
     "output_type": "stream",
     "text": [
      "[[0 1]\n",
      " [1 2]\n",
      " [2 3]]\n"
     ]
    }
   ],
   "source": [
    "# left and right are dependent on the throat.conns array\n",
    "print(pn.conns)"
   ]
  },
  {
   "cell_type": "code",
   "execution_count": null,
   "id": "0d078ba8-4181-4032-8834-a662d34418a8",
   "metadata": {},
   "outputs": [],
   "source": []
  }
 ],
 "metadata": {
  "kernelspec": {
   "display_name": "Python 3 (ipykernel)",
   "language": "python",
   "name": "python3"
  },
  "language_info": {
   "codemirror_mode": {
    "name": "ipython",
    "version": 3
   },
   "file_extension": ".py",
   "mimetype": "text/x-python",
   "name": "python",
   "nbconvert_exporter": "python",
   "pygments_lexer": "ipython3",
   "version": "3.11.7"
  }
 },
 "nbformat": 4,
 "nbformat_minor": 5
}
