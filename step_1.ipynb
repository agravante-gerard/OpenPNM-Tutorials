{
 "cells": [
  {
   "cell_type": "code",
   "execution_count": 1,
   "id": "16f12282-8bd4-4fde-979f-37e18254c537",
   "metadata": {},
   "outputs": [
    {
     "name": "stdout",
     "output_type": "stream",
     "text": [
      "[32, 2, 4, 6, 8]\n"
     ]
    }
   ],
   "source": [
    "# Two data structures used: Python list, Numpy ndarray\n",
    "\n",
    "##### Python Lists #####\n",
    "# Note: [] is list, () is tuple\n",
    "# Note: Python uses 0 indexing\n",
    "L = [0, 2, 4, 6, 8]\n",
    "L[0] = L[2]*L[4]\n",
    "print(L)"
   ]
  },
  {
   "cell_type": "code",
   "execution_count": 2,
   "id": "031c0d49-9e6e-4882-b21c-1fdfee01c10e",
   "metadata": {},
   "outputs": [
    {
     "name": "stdout",
     "output_type": "stream",
     "text": [
      "[32, 2, 4, 6, 8, 100]\n"
     ]
    }
   ],
   "source": [
    "# lists can be appended!\n",
    "L.append(100)\n",
    "print(L)"
   ]
  },
  {
   "cell_type": "code",
   "execution_count": 3,
   "id": "5fee359a-111b-4039-b388-020e0e7bdb68",
   "metadata": {},
   "outputs": [
    {
     "name": "stdout",
     "output_type": "stream",
     "text": [
      "[32, 2, 4, 6, 8, 100, 200, 300]\n"
     ]
    }
   ],
   "source": [
    "# and extended with another list\n",
    "L.extend([200, 300])\n",
    "print(L)"
   ]
  },
  {
   "cell_type": "code",
   "execution_count": 4,
   "id": "75cc3c38-36a8-4463-8bfb-5f11f8ce8742",
   "metadata": {},
   "outputs": [
    {
     "name": "stdout",
     "output_type": "stream",
     "text": [
      "[32, 2, 6, 8, 100, 200, 300]\n"
     ]
    }
   ],
   "source": [
    "# and you can also pop items by the index\n",
    "L.pop(2)\n",
    "print(L)"
   ]
  },
  {
   "cell_type": "code",
   "execution_count": 5,
   "id": "5c230199-edaa-4b64-a6de-55da10289a3b",
   "metadata": {},
   "outputs": [
    {
     "name": "stdout",
     "output_type": "stream",
     "text": [
      "[32, 2, 6, 8, 100, 200, 300, 2, 3]\n"
     ]
    }
   ],
   "source": [
    "# but normal operations work differently\n",
    "# + works to add lists, not add to every element in the list\n",
    "print(L + [2, 3])"
   ]
  },
  {
   "cell_type": "code",
   "execution_count": 6,
   "id": "060f3702-18bf-47ff-bcfc-c8980d2652e4",
   "metadata": {},
   "outputs": [
    {
     "name": "stdout",
     "output_type": "stream",
     "text": [
      "[32, 2, 6, 8, 100, 200, 300, 32, 2, 6, 8, 100, 200, 300, 32, 2, 6, 8, 100, 200, 300]\n"
     ]
    }
   ],
   "source": [
    "# * works to duplicate lists by that amount of time\n",
    "print(L*3)"
   ]
  },
  {
   "cell_type": "code",
   "execution_count": 7,
   "id": "70f6e21e-a4cb-463b-8437-647e34ff83d0",
   "metadata": {},
   "outputs": [
    {
     "name": "stdout",
     "output_type": "stream",
     "text": [
      "[32, 2, 6, 8, 100, 200, 300, 'halleloo', 'a']\n"
     ]
    }
   ],
   "source": [
    "# finally, lists are not type-specific -- you can store other things there!\n",
    "print(L + [\"halleloo\", 'a'])"
   ]
  },
  {
   "cell_type": "code",
   "execution_count": 8,
   "id": "d3db60e0-8b25-4865-af71-03e13ca22b83",
   "metadata": {},
   "outputs": [
    {
     "name": "stdout",
     "output_type": "stream",
     "text": [
      "[ 0 15 30 45 60 75 90]\n"
     ]
    }
   ],
   "source": [
    "##### Python ndarray #####\n",
    "# Numpy - why Python is good for science\n",
    "# ndarrays are C arrays\n",
    "\n",
    "# e.g. arange is the Numpy version of range\n",
    "import numpy as np\n",
    "a = np.arange(0, 100, 15)\n",
    "print(a)"
   ]
  },
  {
   "cell_type": "code",
   "execution_count": 9,
   "id": "3d2ce276-292c-404d-851e-3e31a0d787e6",
   "metadata": {},
   "outputs": [
    {
     "name": "stdout",
     "output_type": "stream",
     "text": [
      "30\n"
     ]
    }
   ],
   "source": [
    "# you can read and write into a numpy array\n",
    "print(a[2])"
   ]
  },
  {
   "cell_type": "code",
   "execution_count": 10,
   "id": "83ccf748-c012-4229-9a3b-12d2ec818631",
   "metadata": {},
   "outputs": [
    {
     "name": "stdout",
     "output_type": "stream",
     "text": [
      "[999  15  30  45  60  75  90]\n"
     ]
    }
   ],
   "source": [
    "a[0] = 999\n",
    "print(a)"
   ]
  },
  {
   "cell_type": "code",
   "execution_count": 11,
   "id": "92e99729-6971-4ddf-a04c-22ed0d83bda9",
   "metadata": {},
   "outputs": [
    {
     "name": "stdout",
     "output_type": "stream",
     "text": [
      "[999  30  60]\n"
     ]
    }
   ],
   "source": [
    "# you can get a 'sub-array' from a numpy array by passing a list\n",
    "b = [0, 2, 4]\n",
    "print(a[b])"
   ]
  },
  {
   "cell_type": "code",
   "execution_count": 12,
   "id": "d19c8617-b512-496d-a4b0-6f4e47bd3741",
   "metadata": {},
   "outputs": [
    {
     "name": "stdout",
     "output_type": "stream",
     "text": [
      "[-100   15 -100   45 -100   75   90]\n"
     ]
    }
   ],
   "source": [
    "# and write a single value to multiple locations as well\n",
    "a[b] = -100\n",
    "print(a)"
   ]
  },
  {
   "cell_type": "code",
   "execution_count": 13,
   "id": "174565ab-b3eb-4d82-845f-7bf35d6fe54f",
   "metadata": {},
   "outputs": [
    {
     "name": "stdout",
     "output_type": "stream",
     "text": [
      "[-100  111 -100  222 -100  333   90]\n"
     ]
    }
   ],
   "source": [
    "# or an array of values as long as they're the same size\n",
    "a[[1, 3, 5]] = [111, 222, 333]\n",
    "print(a)"
   ]
  },
  {
   "cell_type": "code",
   "execution_count": 14,
   "id": "aecdaf6f-472f-42e3-b784-364166594fc9",
   "metadata": {},
   "outputs": [
    {
     "name": "stdout",
     "output_type": "stream",
     "text": [
      "[  0 111   0 222   0 333  90]\n"
     ]
    }
   ],
   "source": [
    "# and filter and map using a predicate called mask\n",
    "mask = a < 0\n",
    "a[mask] = 0\n",
    "print(a)"
   ]
  },
  {
   "cell_type": "code",
   "execution_count": 15,
   "id": "ca94e4d8-dd7e-474a-bace-c2fdf47d40f0",
   "metadata": {},
   "outputs": [
    {
     "name": "stdout",
     "output_type": "stream",
     "text": [
      "[  0 222   0 444   0 666 180]\n"
     ]
    }
   ],
   "source": [
    "##### Vectorization #####\n",
    "# ndarrays can be treated as vectors and you can perform vector operations\n",
    "print(a*2)"
   ]
  },
  {
   "cell_type": "code",
   "execution_count": 16,
   "id": "ddcdb704-dced-43ee-b808-271ff03a62d5",
   "metadata": {},
   "outputs": [
    {
     "name": "stdout",
     "output_type": "stream",
     "text": [
      "[   0  222    0  888    0 1998  630]\n"
     ]
    }
   ],
   "source": [
    "print(a*[1, 2, 3, 4, 5, 6, 7])"
   ]
  },
  {
   "cell_type": "code",
   "execution_count": 17,
   "id": "15217c43-d7ed-4dab-aace-3dcc4975903c",
   "metadata": {},
   "outputs": [
    {
     "name": "stdout",
     "output_type": "stream",
     "text": [
      "[  2 113   2 224   2 335  92]\n"
     ]
    }
   ],
   "source": [
    "print(a + 2)"
   ]
  },
  {
   "cell_type": "code",
   "execution_count": 18,
   "id": "6566546c-c4f0-43f2-8ba4-84c3564ee3f2",
   "metadata": {},
   "outputs": [
    {
     "name": "stdout",
     "output_type": "stream",
     "text": [
      "[  7 117   5 226   3 335  91]\n"
     ]
    }
   ],
   "source": [
    "print(a + [7, 6, 5, 4, 3, 2, 1])"
   ]
  },
  {
   "cell_type": "code",
   "execution_count": 19,
   "id": "cc7fb723-c156-45fc-ab4e-0306e0990d05",
   "metadata": {},
   "outputs": [
    {
     "name": "stdout",
     "output_type": "stream",
     "text": [
      "10\n"
     ]
    }
   ],
   "source": [
    "##### Methods vs. Functions #####\n",
    "# e.g. summing can be done by using a numpy function (sum)\n",
    "arr = np.array([1, 2, 3, 4])\n",
    "print(np.sum(arr))"
   ]
  },
  {
   "cell_type": "code",
   "execution_count": 20,
   "id": "b9fa9d19-49d5-4e61-9101-f5999d5ecd9c",
   "metadata": {},
   "outputs": [
    {
     "name": "stdout",
     "output_type": "stream",
     "text": [
      "10\n"
     ]
    }
   ],
   "source": [
    "# or calling a method in the numpy object\n",
    "# depends on what you prefer\n",
    "print(arr.sum())"
   ]
  },
  {
   "cell_type": "code",
   "execution_count": 21,
   "id": "22c54c0b-9373-4dec-9f7e-3297dc260dc5",
   "metadata": {},
   "outputs": [
    {
     "name": "stdout",
     "output_type": "stream",
     "text": [
      "{'arr': array([  0, 111,   0, 222,   0, 333,  90]), 'list': [32, 2, 6, 8, 100, 200, 300]}\n"
     ]
    }
   ],
   "source": [
    "##### Dictionaries #####\n",
    "# like a list but items are addressed by name -- composed of key and value pairs\n",
    "d = dict()\n",
    "d['arr'] = a\n",
    "d['list'] = L\n",
    "print(d)"
   ]
  },
  {
   "cell_type": "code",
   "execution_count": 22,
   "id": "7a5f7666-910e-4521-a2ad-e03ee9f03050",
   "metadata": {},
   "outputs": [
    {
     "name": "stdout",
     "output_type": "stream",
     "text": [
      "[  0 111   0 222   0 333  90]\n"
     ]
    }
   ],
   "source": [
    "# you can \"index\" it as well\n",
    "print(d['arr'])"
   ]
  },
  {
   "cell_type": "code",
   "execution_count": 23,
   "id": "f43daf49-f5a7-4bec-803a-7b6108a402c8",
   "metadata": {},
   "outputs": [
    {
     "data": {
      "text/plain": [
       "dict_keys(['arr', 'list'])"
      ]
     },
     "execution_count": 23,
     "metadata": {},
     "output_type": "execute_result"
    }
   ],
   "source": [
    "# you can also get the list of keys\n",
    "d.keys()"
   ]
  },
  {
   "cell_type": "code",
   "execution_count": 24,
   "id": "48268142-64b6-44bc-ba8c-8d5c442e0aae",
   "metadata": {},
   "outputs": [
    {
     "data": {
      "text/plain": [
       "dict_values([array([  0, 111,   0, 222,   0, 333,  90]), [32, 2, 6, 8, 100, 200, 300]])"
      ]
     },
     "execution_count": 24,
     "metadata": {},
     "output_type": "execute_result"
    }
   ],
   "source": [
    "# and values\n",
    "d.values()"
   ]
  },
  {
   "cell_type": "code",
   "execution_count": 25,
   "id": "16410461-a492-441a-9340-4278d88bcef0",
   "metadata": {},
   "outputs": [
    {
     "name": "stdout",
     "output_type": "stream",
     "text": [
      "{'arr': array([  0, 111,   0, 222,   0, 333,  90]), 'list': [32, 2, 6, 8, 100, 200, 300], 'test': 1.0}\n"
     ]
    }
   ],
   "source": [
    "# add items by specifying a distinct key name\n",
    "d['test'] = 1.0\n",
    "print(d)"
   ]
  },
  {
   "cell_type": "code",
   "execution_count": 26,
   "id": "8a697eab-ce82-44ef-90d7-d476db7107fb",
   "metadata": {},
   "outputs": [
    {
     "name": "stdout",
     "output_type": "stream",
     "text": [
      "dict_keys(['arr', 'list'])\n"
     ]
    }
   ],
   "source": [
    "# you can delete values too\n",
    "del d['test']\n",
    "print(d.keys())"
   ]
  },
  {
   "cell_type": "code",
   "execution_count": 27,
   "id": "078be5a8-c0e6-4ab4-80df-7ea428fd4244",
   "metadata": {},
   "outputs": [
    {
     "name": "stdout",
     "output_type": "stream",
     "text": [
      "{'list': [32, 2, 6, 8, 100, 200, 300]}\n"
     ]
    }
   ],
   "source": [
    "# or pop it\n",
    "arr = d.pop('arr')\n",
    "print(d)"
   ]
  },
  {
   "cell_type": "code",
   "execution_count": 28,
   "id": "67ec4f6e-47bb-434b-bd96-8420e0746d6f",
   "metadata": {},
   "outputs": [],
   "source": [
    "##### Dictionary Inheritance and Subclasses #####\n",
    "# using the [] to index actually calls __getitem__ and __setitem__ methods - intrinsic methods\n",
    "\n",
    "# create a class to add functionalities to __getitem__ and __setitem__\n",
    "class NewDict(dict): \n",
    "    \n",
    "    def __setitem__(self, key, value):\n",
    "        # Define customization\n",
    "        print(\"The key being written is:\", key)\n",
    "        print(\"The value being written is:\", value)\n",
    "        # And call the actual setitem\n",
    "        super().__setitem__(key, value)\n",
    "        \n",
    "    def __getitem__(self, key):\n",
    "        print(\"The key being retrieved is:\", key)\n",
    "        return super().__getitem__(key)\n"
   ]
  },
  {
   "cell_type": "code",
   "execution_count": 29,
   "id": "188dea8a-ce27-40d7-911f-e92b01fce5d2",
   "metadata": {},
   "outputs": [
    {
     "name": "stdout",
     "output_type": "stream",
     "text": [
      "The key being written is: test\n",
      "The value being written is: 1.0\n"
     ]
    }
   ],
   "source": [
    "dnew = NewDict()\n",
    "# calls the new __setitem__\n",
    "dnew['test'] = 1.0"
   ]
  },
  {
   "cell_type": "code",
   "execution_count": 30,
   "id": "d90b9760-a32a-47f5-b4c2-5c473f61ad12",
   "metadata": {},
   "outputs": [
    {
     "name": "stdout",
     "output_type": "stream",
     "text": [
      "The key being retrieved is: test\n"
     ]
    },
    {
     "data": {
      "text/plain": [
       "1.0"
      ]
     },
     "execution_count": 30,
     "metadata": {},
     "output_type": "execute_result"
    }
   ],
   "source": [
    "# calls the new __getitem__\n",
    "dnew['test']"
   ]
  },
  {
   "cell_type": "code",
   "execution_count": 31,
   "id": "94a7d68d-e6c0-4147-87f2-d32d39d13358",
   "metadata": {},
   "outputs": [
    {
     "name": "stdout",
     "output_type": "stream",
     "text": [
      "All dict names must start with pore, throat, or param\n"
     ]
    }
   ],
   "source": [
    "# OpenPNM overloads __setitem__ and __getitem__ to perform several checks\n",
    "import openpnm as op\n",
    "pn = op.network.Demo()\n",
    "try:\n",
    "    pn['foo.bar'] = 1.0\n",
    "except Exception as e:\n",
    "    print(e)"
   ]
  },
  {
   "cell_type": "code",
   "execution_count": 32,
   "id": "b1ec63b5-debe-4f2b-abe9-249a77938d20",
   "metadata": {},
   "outputs": [
    {
     "name": "stdout",
     "output_type": "stream",
     "text": [
      "Key must start with either pore, or throat\n",
      "dict_keys(['pore.test'])\n"
     ]
    }
   ],
   "source": [
    "# this can be niniced using the NewDict class\n",
    "class NewDict(dict): \n",
    "    \n",
    "    def __setitem__(self, key, value):\n",
    "        if not (key.startswith('pore') or key.startswith('throat')):\n",
    "            raise Exception('Key must start with either pore, or throat')\n",
    "        super().__setitem__(key, value)\n",
    "\n",
    "dnew = NewDict()\n",
    "try:\n",
    "    dnew['foo.test'] = 1.0\n",
    "except Exception as e:\n",
    "    print(e)\n",
    "dnew['pore.test'] = 1.0\n",
    "print(dnew.keys())"
   ]
  },
  {
   "cell_type": "code",
   "execution_count": 33,
   "id": "9f76688a-c0a9-446a-8259-07212cedef6c",
   "metadata": {},
   "outputs": [],
   "source": [
    "# subclassing also allows to add new functions\n",
    "class NewDict(dict): \n",
    "    \n",
    "    def __setitem__(self, key, value):\n",
    "        if not (key.startswith('pore') or key.startswith('throat')):\n",
    "            raise Exception('Key must start with either pore, or throat')\n",
    "        super().__setitem__(key, value)\n",
    "    \n",
    "    def poreprops(self):\n",
    "        print('The following pore properties were found:')\n",
    "        for item in self.keys():\n",
    "            if item.startswith('pore'):\n",
    "                print('-> ' + item)\n"
   ]
  },
  {
   "cell_type": "code",
   "execution_count": 34,
   "id": "391281a1-b7ec-406d-ae1d-ace1131382ca",
   "metadata": {},
   "outputs": [
    {
     "name": "stdout",
     "output_type": "stream",
     "text": [
      "The following pore properties were found:\n",
      "-> pore.test\n",
      "-> pore.bar\n"
     ]
    }
   ],
   "source": [
    "dnew = NewDict()\n",
    "dnew['pore.test'] = 1.0\n",
    "dnew['pore.bar'] = 100\n",
    "dnew['throat.blah'] = 2.0\n",
    "dnew.poreprops()"
   ]
  },
  {
   "cell_type": "code",
   "execution_count": 35,
   "id": "79cae255-d5e2-4fe1-8cab-9d1859fc8c44",
   "metadata": {},
   "outputs": [
    {
     "name": "stdout",
     "output_type": "stream",
     "text": [
      "bob\n"
     ]
    }
   ],
   "source": [
    "# and you can add attributes to a subclassed dict\n",
    "dnew.name = 'bob'\n",
    "print(dnew.name)"
   ]
  },
  {
   "cell_type": "code",
   "execution_count": 36,
   "id": "0d2f3eac-784d-470a-a19b-59af09e594aa",
   "metadata": {},
   "outputs": [
    {
     "name": "stdout",
     "output_type": "stream",
     "text": [
      "{'name': 'bob'}\n"
     ]
    }
   ],
   "source": [
    "# and even other dictionaries (that you initialize using {})\n",
    "dnew.settings = {}\n",
    "dnew.settings['name'] = 'bob'\n",
    "print(dnew.settings)"
   ]
  },
  {
   "cell_type": "code",
   "execution_count": null,
   "id": "60a706e2-aa63-4bd3-8024-5c161e4d4876",
   "metadata": {},
   "outputs": [],
   "source": []
  }
 ],
 "metadata": {
  "kernelspec": {
   "display_name": "Python 3 (ipykernel)",
   "language": "python",
   "name": "python3"
  },
  "language_info": {
   "codemirror_mode": {
    "name": "ipython",
    "version": 3
   },
   "file_extension": ".py",
   "mimetype": "text/x-python",
   "name": "python",
   "nbconvert_exporter": "python",
   "pygments_lexer": "ipython3",
   "version": "3.11.7"
  }
 },
 "nbformat": 4,
 "nbformat_minor": 5
}
